{
 "cells": [
  {
   "cell_type": "markdown",
   "id": "07a8e0d8",
   "metadata": {},
   "source": [
    "## Modified introduction using forex data"
   ]
  },
  {
   "cell_type": "markdown",
   "id": "db9723dc",
   "metadata": {},
   "source": [
    "This is the trading rule example shown in [the introduction](https://github.com/robcarver17/pysystemtrade/blob/master/docs/introduction.md) but modified to use Interactive Brokers instead of CSV files as data source.  \n",
    "\n",
    "IB requires a minimum equity and a monthly subscription to provide historical data on future contracts.  This example was modified to use FX prices instead futures to make it runnable with free unfunded paper trading accounts.  Note that Rob [does not recommend trading FX spot data with IB due to their high fees](https://github.com/robcarver17/pysystemtrade/issues/517#issuecomment-1010770678)."
   ]
  },
  {
   "cell_type": "markdown",
   "id": "d855c448",
   "metadata": {},
   "source": [
    "First, import the required packages and initialize ib_insync.  "
   ]
  },
  {
   "cell_type": "code",
   "execution_count": null,
   "id": "5d74973e-da47-44c1-a04d-142337337d59",
   "metadata": {},
   "outputs": [],
   "source": [
    "import logging\n",
    "\n",
    "logging.getLogger('base_system').setLevel(logging.WARNING)\n",
    "logging.getLogger('config').setLevel(logging.WARNING)"
   ]
  },
  {
   "cell_type": "code",
   "execution_count": null,
   "id": "0a7f04eb-3313-47be-b44a-ce47f798bba3",
   "metadata": {},
   "outputs": [],
   "source": [
    "import functools\n",
    "import itertools\n",
    "\n",
    "import pandas as pd\n",
    "import numpy as np\n",
    "import matplotlib\n",
    "import matplotlib.pyplot as plt\n",
    "\n",
    "from arctic import Arctic\n",
    "from sysdata.config.configdata import Config\n",
    "from systems.provided.futures_chapter15.basesystem import futures_system\n",
    "from sysdata.data_blob import dataBlob\n",
    "from sysdata.sim.db_futures_sim_data import dbFuturesSimData\n",
    "from systems.basesystem import System\n",
    "\n",
    "\n",
    "def update_config(\n",
    "    config,\n",
    "    instrument_weights=None,\n",
    "    notional_trading_capital=None,\n",
    "    base_currency=None,\n",
    "    start_date=None,\n",
    "    buffer_size=None,\n",
    "    forecast_div_multiplier=None,\n",
    "    forecast_weights=None,\n",
    "    percentage_vol_target=None,\n",
    "):\n",
    "\n",
    "    config.notional_trading_capital = notional_trading_capital or config.notional_trading_capital\n",
    "    config.base_currency = base_currency or config.base_currency\n",
    "    config.percentage_vol_target = percentage_vol_target or config.percentage_vol_target\n",
    "    config.buffer_size = buffer_size or config.buffer_size\n",
    "    config.start_date = start_date or config.start_date\n",
    "    config.forecast_div_multiplier = forecast_div_multiplier or config.forecast_div_multiplier\n",
    "    config.forecast_weights = forecast_weights or config.forecast_weights\n",
    "    config.instrument_weights = instrument_weights or config.instrument_weights\n",
    "    return config\n",
    "\n",
    "\n",
    "\n",
    "def run_backtest(\n",
    "    config_file: str=\"private.futures_system.config.yaml\",\n",
    "    data=None,\n",
    "    config=None,\n",
    "    **kwargs,\n",
    "):\n",
    "    data = data or dbFuturesSimData()\n",
    "\n",
    "    config=config or Config(config_file)\n",
    "    update_config(config, **kwargs)\n",
    "    system = futures_system(config=config, data=data, trading_rules=)\n",
    "    return system, system.accounts.portfolio()\n",
    "\n",
    "\n",
    "def rolled_prices(lib, symbol):\n",
    "    def get_prices(n):\n",
    "        symbols = lib.list_symbols(regex=f'Day/{n}')\n",
    "        return pd.concat(\n",
    "            (lib.read(c).data[['FINAL', 'VOLUME']] for c in  symbols),\n",
    "            axis=1,\n",
    "            keys=symbols)\n",
    "    def adjusted_prices(prices):\n",
    "        return prices[\n",
    "            (prices.loc[:,(slice(None), 'FINAL')].shift(-1, axis=1).fillna(0.0)\n",
    "             <= prices.loc[:,(slice(None), 'FINAL')])\n",
    "        ].loc[:,(slice(None), 'FINAL')].ffill(axis=1).iloc[:,-1].rename(symbol)\n",
    "    return adjusted_prices(get_prices(symbol))\n",
    "\n",
    "\n",
    "def for_each(\n",
    "    axis,\n",
    "    system,\n",
    "    method,\n",
    "    *args,\n",
    "    funcs=(),\n",
    "    ignore_zero_weighted=True,\n",
    "    **kwargs,\n",
    "):\n",
    "    \"\"\"\n",
    "    :param axis: instrument or strategy\n",
    "    :param system: the system\n",
    "    :param method: function accepting instrument_code or trading rule name.\n",
    "    :param funcs: a list of functions to apply to output of method\n",
    "    :param ignore_zero_weighted: if true, exclude zero weighted instruments or rules\n",
    "    \"\"\"\n",
    "    rule_variation_name = kwargs.get('rule_variation_name')\n",
    "    instrument_code = kwargs.get('instrument_code')\n",
    "\n",
    "    def _validate_args():\n",
    "        if rule_variation_name and instrument_code:\n",
    "            raise ValueError(\"provide only one of instrument_code and rule_variation_name\")\n",
    "        if axis == 'instrument' and instrument_code:\n",
    "            raise ValueError(axis, instrument_code)\n",
    "        if axis == 'strategy' and rule_variation_name:\n",
    "            raise ValueError(axis, rule_variation_name)\n",
    "        if axis == 'all' and (rule_variation_name or instrument_code):\n",
    "            raise ValueError(axis, (instrument_code or rule_variation_name))\n",
    "\n",
    "    _validate_args()\n",
    "\n",
    "    def compz(t, funcs):\n",
    "        return t if not funcs else compz(funcs[0](t), funcs[1:])\n",
    "\n",
    "    instruments = system.data.get_all_instrument_data_as_df()\n",
    "    instruments = instruments[instruments.index.isin(system.get_instrument_list())]\n",
    "    \n",
    "    strategy_ignore = ignore = lambda i: (system.config.forecast_weights.get(i['rule_variation_name'], 0) == 0.0\n",
    "                        if ignore_zero_weighted else False)\n",
    "    instrument_ignore = lambda i: (system.config.instrument_weights[i['instrument_code']] == 0.0\n",
    "                        if ignore_zero_weighted else False)\n",
    "\n",
    "    if axis=='instrument':\n",
    "        ignore = instrument_ignore\n",
    "        elems = [{'instrument_code': j, **kwargs} for j in system.config.instrument_weights]\n",
    "    elif axis=='strategy':\n",
    "        ignore = strategy_ignore\n",
    "        elems = [{'rule_variation_name': j, **kwargs} for j in system.config.forecast_weights]\n",
    "    elif axis=='all':\n",
    "        elems = [{'instrument_code': i, 'rule_variation_name': s, **kwargs}\n",
    "                 for i, s in itertools.product(\n",
    "                    system.get_instrument_list(),\n",
    "                    system.rules.trading_rules().keys(),\n",
    "        )]\n",
    "        ignore = lambda i: (instrument_ignore(i['instrument_code'])\n",
    "                                or strategy_ignore(i['rule_variation_name']))\n",
    "    else:\n",
    "        raise ValueError(f'One of strategy or instrument, not {axis}.')\n",
    "\n",
    "    key = (('rule_variation_name' if axis=='strategy' else 'instrument_code')\n",
    "           if axis!='all'\n",
    "           else ('instrument_code', 'rule_variation_name'))\n",
    "\n",
    "    if isinstance(key, tuple):\n",
    "        keys = [(i['instrument_code'], i['rule_variation_name']) for i in elems if not ignore(i)]\n",
    "    else:\n",
    "        keys = [i[key] for i in elems if not ignore(i)]\n",
    "\n",
    "    return pd.concat(\n",
    "        (compz(method(**i), funcs)\n",
    "         for i in elems if not ignore(i)),\n",
    "            axis=1,\n",
    "            keys=keys,\n",
    "        )"
   ]
  },
  {
   "cell_type": "code",
   "execution_count": null,
   "id": "42b435af-b664-486a-99b9-9ce06c5fbf00",
   "metadata": {},
   "outputs": [],
   "source": [
    "config = Config('private.futures_system.config.yaml')\n",
    "config.forecast_weights"
   ]
  },
  {
   "cell_type": "code",
   "execution_count": null,
   "id": "3d02453c-a791-4ac9-b60e-c26298f1113b",
   "metadata": {},
   "outputs": [],
   "source": [
    "instrument_weights = {\n",
    " 'CAD_micro': 0.1,\n",
    " 'COPPER-micro': 0.1,\n",
    " 'CORN': 0.1,\n",
    " 'EDOLLAR': 0.1,\n",
    " 'EUROSTX': 0.1,\n",
    " 'NASDAQ_micro': 0.1,\n",
    " 'US10': 0,\n",
    " 'SP500_micro': 0.1,\n",
    " 'V2X': 0.1,\n",
    " 'MXP': 0.1,\n",
    " 'GASOILINE_micro': 0.1,\n",
    "}\n",
    "\n",
    "forecast_weights = {\n",
    " 'ewmac16_64': 0.21,\n",
    " 'ewmac32_128': 0.31,\n",
    " 'ewmac64_256': 0.41,\n",
    "}\n",
    "\n",
    "data = dbFuturesSimData()\n",
    "\n",
    "config = Config('private.futures_system.config.yaml')\n",
    "config.use_instrument_weight_estimates = True\n",
    "system, pf = run_backtest(\n",
    "    notional_trading_capital=70_000,\n",
    "    percentage_vol_target=25,\n",
    "    start_date='1985-01-01',\n",
    "    data=data,\n",
    "    forecast_weights=forecast_weights,\n",
    "    instrument_weights=instrument_weights,\n",
    "    buffer_size=.85,\n",
    "    config=config,\n",
    ")"
   ]
  },
  {
   "cell_type": "code",
   "execution_count": null,
   "id": "92db58f9-45ce-4fa0-a02a-051779ca8689",
   "metadata": {},
   "outputs": [],
   "source": [
    "fig, ax = plt.subplots()\n",
    "for_each('strategy', system,\n",
    "         system.rules.get_raw_forecast,\n",
    "         instrument_code='SP500_micro',\n",
    "        ).plot(ax=ax)\n",
    "\n",
    "fig, ax = plt.subplots()\n",
    "for_each('instrument', system,\n",
    "         system.accounts.get_buffered_position,\n",
    "        ).plot(ax=ax)\n",
    "\n",
    "\n",
    "fig, ax = plt.subplots()\n",
    "for_each('instrument',\n",
    "         system, system.accounts.pandl_for_instrument,\n",
    "         funcs=[pd.DataFrame.cumsum],).plot(ax=ax)\n",
    "\n",
    "fig, ax = plt.subplots()\n",
    "pf.curve().plot(ax=ax)\n",
    "\n",
    "fig, ax = plt.subplots()\n",
    "vols = for_each('instrument', system, system.rawdata.get_daily_percentage_volatility)\n",
    "vols.ewm(128).mean().plot(ax=ax)\n",
    "\n",
    "\n",
    "fig, ax = plt.subplots()\n",
    "account = pf.percent.curve()\n",
    "sp = system.accounts.get_daily_prices('SP500_micro')\n",
    "sprets = (1+sp.pct_change()).cumprod()\n",
    "sprets.rename('S&P').plot(ax=ax)\n",
    "(1+account/100).rename('account').plot(ax=ax)\n",
    "fig.legend()\n",
    "# (1+sp_account/100).plot()\n",
    "#plt.plot(sp.index, 1+sp_account/100, label='SP Account')\n",
    "pf.percent.stats()"
   ]
  },
  {
   "cell_type": "code",
   "execution_count": null,
   "id": "7f25d4df-0987-4df8-843e-cd49dc0fc006",
   "metadata": {},
   "outputs": [],
   "source": [
    "from sysproduction.data.backtest import dataBacktest\n",
    "from sysproduction.strategy_code import report_system_classic\n",
    "\n",
    "bt = dataBacktest().get_most_recent_backtest(strategy_name='example')\n",
    "\n",
    "#report_system_classic.report_system_classic(data, bt)"
   ]
  },
  {
   "cell_type": "code",
   "execution_count": null,
   "id": "a8fd5e99-eca0-4d4c-846b-acf1b4d87c4a",
   "metadata": {},
   "outputs": [],
   "source": [
    "bt.system.accounts.portfolio().curve().plot()"
   ]
  },
  {
   "cell_type": "code",
   "execution_count": null,
   "id": "7ebd6639-4df8-4921-b9cf-d6109bec6e50",
   "metadata": {},
   "outputs": [],
   "source": [
    "data = for_each('instrument', system, system.accounts.get_buffered_position).diff()\n",
    "pd.concat((data.SP500_micro[data.SP500_micro.ne(0)].dropna().index.to_series(),\n",
    "           np.sign(data.SP500_micro[data.SP500_micro.ne(0)].dropna())), axis=1)\n",
    "           "
   ]
  },
  {
   "cell_type": "code",
   "execution_count": null,
   "id": "da0ee399-2d9a-4bf5-8b34-6af083de2b39",
   "metadata": {},
   "outputs": [],
   "source": [
    "# system.accounts.get_buffered_position('SP500_micro', 'meanreversion').plot()\n",
    "system.accounts.portfolio().percent.curve().plot()\n",
    "system.accounts.portfolio().percent.stats()\n",
    "#system.accounts.get_buffered_position('SP500_micro').plot()"
   ]
  },
  {
   "cell_type": "code",
   "execution_count": null,
   "id": "fcfc2f79-8f60-47ce-8000-6feb206be448",
   "metadata": {},
   "outputs": [],
   "source": [
    "\n"
   ]
  },
  {
   "cell_type": "code",
   "execution_count": null,
   "id": "e11e6ed2-1bde-454e-9f36-83a36c9933ee",
   "metadata": {},
   "outputs": [],
   "source": [
    "system.rules"
   ]
  },
  {
   "cell_type": "code",
   "execution_count": null,
   "id": "70fb28b6-1a34-4959-9956-302492b89270",
   "metadata": {},
   "outputs": [],
   "source": [
    "\n",
    "fig,ax = plt.subplots()\n",
    "ax.xaxis.set_major_locator(matplotlib.dates.YearLocator(base=1))\n",
    "ax.xaxis.set_major_formatter(matplotlib.dates.DateFormatter(\"%Y\"))\n",
    "\n",
    "\n",
    "#pf.percent.curve().plot(ax=ax)\n",
    "buffered_pos = system.accounts.get_actual_buffers_for_position('SP500_micro')\n",
    "\n",
    "actual_pos = system.accounts.get_actual_position('SP500_micro')\n",
    "actual_pos.plot(ax=ax)\n",
    "buffered_pos.plot(ax=ax)\n",
    "#system.accounts.get_capped_forecast('EDOLLAR', 'ewmac64_256').rename('ewmac64_256').tail(120).plot()\n",
    "#system.accounts.get_capped_forecast('EDOLLAR', 'ewmac4_16').rename('ewmac4_16').tail(120).plot()\n"
   ]
  },
  {
   "cell_type": "code",
   "execution_count": null,
   "id": "82ee6125-d4c0-4acf-a323-e1fba3350187",
   "metadata": {},
   "outputs": [],
   "source": [
    "system.accounts.get_buffered_position('V2X').plot()"
   ]
  },
  {
   "cell_type": "code",
   "execution_count": null,
   "id": "9d836aea-8274-4c06-98c4-5088c255ed70",
   "metadata": {},
   "outputs": [],
   "source": [
    "(1+sp.pct_change()).cumprod().plot()"
   ]
  },
  {
   "cell_type": "code",
   "execution_count": null,
   "id": "6a8a9582-3374-483a-b0b7-ae5d980998b3",
   "metadata": {},
   "outputs": [],
   "source": [
    "system.accounts.get_daily_returns_volatility('SP500')"
   ]
  },
  {
   "cell_type": "code",
   "execution_count": null,
   "id": "ece44fc6-2aa1-48e1-9a0e-7900ce676fb6",
   "metadata": {},
   "outputs": [],
   "source": [
    "\n",
    "import numpy as np\n",
    "#system.combForecast.get_monthly_raw_forecast_weights_estimated('SP500_micro')#.diff().ewm(120).std(),\n",
    "# np.corrcoef(\n",
    "#     system.accounts.get_daily_returns_volatility('SP500_micro'),\n",
    "#     system.combForecast.get_monthly_raw_forecast_weights_estimated('SP500_micro')#.diff().ewm(120).std(),\n",
    "# )\n",
    "plot = ((system.accounts.get_buffered_position('SP500_micro')\n",
    " * 5\n",
    " * system.accounts.get_daily_prices('SP500_micro'))\n",
    "    .plot())\n"
   ]
  },
  {
   "cell_type": "code",
   "execution_count": null,
   "id": "17e13885-e04f-4f0d-a88a-af2a890c7073",
   "metadata": {},
   "outputs": [],
   "source": [
    "data.get_all_instrument_data_as_df()"
   ]
  },
  {
   "cell_type": "code",
   "execution_count": null,
   "id": "85ceda36-d772-4607-a50f-fce220b6a882",
   "metadata": {},
   "outputs": [],
   "source": [
    "instrument_code = 'SP500_micro'\n",
    "pv = data.get_all_instrument_data_as_df()['Pointsize'].loc['SP500_micro']\n",
    "position = system.accounts.get_buffered_position(instrument_code)\n",
    "price = system.accounts.get_daily_prices(instrument_code)\n",
    "\n",
    "position.plot(secondary_y=True, grid=True)\n",
    "price.plot(grid=True)"
   ]
  },
  {
   "cell_type": "code",
   "execution_count": null,
   "id": "c5fe0504-4599-4e47-b2b9-98d2db087e4e",
   "metadata": {},
   "outputs": [],
   "source": [
    "\n"
   ]
  },
  {
   "cell_type": "code",
   "execution_count": null,
   "id": "04daa998-fd71-460e-84bf-9f9a2978f7fd",
   "metadata": {},
   "outputs": [],
   "source": []
  },
  {
   "cell_type": "code",
   "execution_count": null,
   "id": "0b8539eb-dc88-45c7-a7cd-daa3a9619ee3",
   "metadata": {},
   "outputs": [],
   "source": [
    "stats, *_ = system.accounts.portfolio().stats()\n",
    "pd.DataFrame(stats).set_index(0).transpose().rename({1: 'example'}, axis=0)"
   ]
  },
  {
   "cell_type": "code",
   "execution_count": null,
   "id": "bc8790cd-afe3-4961-98bb-dfb859172d88",
   "metadata": {},
   "outputs": [],
   "source": [
    "df = pd.concat((adjusted_prices.read(c).data.squeeze().rename(c) for c in adjusted_prices.list_symbols()), axis=1)"
   ]
  },
  {
   "cell_type": "code",
   "execution_count": null,
   "id": "fbcb0a0e-3ae2-49df-89e1-c262cdcfb7ca",
   "metadata": {},
   "outputs": [],
   "source": [
    "pip install --upgrade nuitka "
   ]
  },
  {
   "cell_type": "code",
   "execution_count": null,
   "id": "704c2cc5-2a51-42c1-a63a-718f65e1306f",
   "metadata": {},
   "outputs": [],
   "source": [
    "fig, ax = plt.subplots()\n",
    "#pf.percent.curve().rename('example').plot(ax=ax)\n",
    "pxs = adjusted_prices.read('SP500').data\n",
    "ax.plot(pxs.index, pxs, label='SP500')\n",
    "fig.legend()\n",
    "pxs.tail()\n",
    "\n",
    "\n"
   ]
  },
  {
   "cell_type": "code",
   "execution_count": null,
   "id": "6cc5f2b2-9270-46b0-99d9-f4fc5264a38c",
   "metadata": {},
   "outputs": [],
   "source": [
    "from sysproduction.data import backtest"
   ]
  },
  {
   "cell_type": "code",
   "execution_count": null,
   "id": "c5ecf079-130a-4937-a1a6-dec1fd2be929",
   "metadata": {},
   "outputs": [],
   "source": [
    "bt = backtest.dataBacktest()"
   ]
  },
  {
   "cell_type": "code",
   "execution_count": null,
   "id": "3ca2c778-6dc4-4b46-a473-07bff939e776",
   "metadata": {},
   "outputs": [],
   "source": [
    "bt = bt.get_most_recent_backtest('example')"
   ]
  },
  {
   "cell_type": "code",
   "execution_count": null,
   "id": "e34af309-f6eb-415c-a54f-01b1e21cccb4",
   "metadata": {},
   "outputs": [],
   "source": [
    "adjusted_prices.read('EDOLLAR').data.tail(50)"
   ]
  },
  {
   "cell_type": "code",
   "execution_count": null,
   "id": "1811075d-6682-4d5f-8a0a-490bc74639fb",
   "metadata": {},
   "outputs": [],
   "source": [
    "system.portfolio."
   ]
  },
  {
   "cell_type": "code",
   "execution_count": null,
   "id": "2b7f99ea-a1be-4c34-a4cf-9dcd880f9029",
   "metadata": {},
   "outputs": [],
   "source": []
  }
 ],
 "metadata": {
  "kernelspec": {
   "display_name": "Python 3 (ipykernel)",
   "language": "python",
   "name": "python3"
  },
  "language_info": {
   "codemirror_mode": {
    "name": "ipython",
    "version": 3
   },
   "file_extension": ".py",
   "mimetype": "text/x-python",
   "name": "python",
   "nbconvert_exporter": "python",
   "pygments_lexer": "ipython3"
  }
 },
 "nbformat": 4,
 "nbformat_minor": 5
}
